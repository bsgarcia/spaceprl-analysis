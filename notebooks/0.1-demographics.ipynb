{
 "cells": [
  {
   "cell_type": "code",
   "execution_count": 36,
   "id": "323d4a88",
   "metadata": {},
   "outputs": [],
   "source": [
    "import pandas as pd\n",
    "\n",
    "dm1 = pd.read_csv('../data/external/demographics/dem_fullpilot12.csv')\n",
    "dm2 = pd.read_csv('../data/external/demographics/dem_fullpilot13.csv')\n",
    "dm3 = pd.read_csv('../data/external/demographics/dem_fullpilot14.csv')\n",
    "\n",
    "\n",
    "\n",
    "df1 = pd.read_csv('../data/raw/fullpilot13_2.csv')\n",
    "df2 = pd.read_csv('../data/raw/fullpilot1466.csv')\n",
    "\n",
    "\n",
    "df2 = df2[df2.expName.isin(['FullPilot14'])]\n",
    "df1 = df1[df1.expName.isin(['FullPilot13', 'FullPilot12'])]\n",
    "\n",
    "df1 = df1.groupby('prolificID').filter(lambda x: len(x) >= 483)\n",
    "df2 = df2.groupby('prolificID').filter(lambda x: len(x) >= 483)\n",
    "# df = df.groupby('prolificID').filter(lambda x: len(x) <= 432)\n",
    "# keep  prolificIDs that are more than 10 characters\n",
    "df1 = df1[df1.prolificID.str.len() > 10]\n",
    "df2 = df2[df2.prolificID.str.len() > 10]\n",
    "# show prolificIDs "
   ]
  },
  {
   "cell_type": "code",
   "execution_count": 38,
   "id": "4072f87a",
   "metadata": {},
   "outputs": [],
   "source": [
    "dm1['prolificID'] = dm1['Participant id']\n",
    "dm2['prolificID'] = dm2['Participant id']\n",
    "dm3['prolificID'] = dm3['Participant id']"
   ]
  },
  {
   "cell_type": "code",
   "execution_count": 45,
   "id": "3c5f4e79",
   "metadata": {},
   "outputs": [],
   "source": [
    "pids1 = df1.prolificID.unique()\n",
    "pids2 = df2.prolificID.unique()\n",
    "\n",
    "# check that pids1 are in dm1 and pids2 are in dm2\n",
    "dm1 = dm1[(dm1.prolificID.isin(pids1)) | (dm1.prolificID.isin(pids2))]\n",
    "dm2 = dm2[(dm2.prolificID.isin(pids1)) | (dm2.prolificID.isin(pids2))]\n",
    "dm3 = dm3[(dm3.prolificID.isin(pids1)) | (dm3.prolificID.isin(pids2))]"
   ]
  },
  {
   "cell_type": "code",
   "execution_count": 40,
   "id": "30e8b904",
   "metadata": {},
   "outputs": [
    {
     "name": "stdout",
     "output_type": "stream",
     "text": [
      "(62, 21)\n",
      "(64, 21)\n"
     ]
    }
   ],
   "source": [
    "print(dm1.shape)\n",
    "print(dm2.shape)"
   ]
  },
  {
   "cell_type": "code",
   "execution_count": 46,
   "id": "2f1ebca6",
   "metadata": {},
   "outputs": [],
   "source": [
    "# check dm1 and dm2 do not have the same prolificIDs\n",
    "dm1 = dm1[~dm1.prolificID.isin(dm2.prolificID)]\n",
    "dm2 = dm2[~dm2.prolificID.isin(dm1.prolificID)]\n",
    "dm3 = dm3[~dm3.prolificID.isin(dm1.prolificID)]\n",
    "dm3 = dm3[~dm3.prolificID.isin(dm2.prolificID)]\n"
   ]
  },
  {
   "cell_type": "code",
   "execution_count": 47,
   "id": "d768f038",
   "metadata": {},
   "outputs": [
    {
     "name": "stdout",
     "output_type": "stream",
     "text": [
      "(61, 21)\n"
     ]
    },
    {
     "data": {
      "text/plain": [
       "(64, 21)"
      ]
     },
     "execution_count": 47,
     "metadata": {},
     "output_type": "execute_result"
    }
   ],
   "source": [
    "print(dm1.shape)\n",
    "dm2.shape"
   ]
  },
  {
   "cell_type": "code",
   "execution_count": 48,
   "id": "bdbe4fb1",
   "metadata": {},
   "outputs": [
    {
     "data": {
      "text/plain": [
       "(65, 21)"
      ]
     },
     "execution_count": 48,
     "metadata": {},
     "output_type": "execute_result"
    }
   ],
   "source": [
    "dm3.shape"
   ]
  }
 ],
 "metadata": {
  "kernelspec": {
   "display_name": "3.9.12",
   "language": "python",
   "name": "python3"
  },
  "language_info": {
   "codemirror_mode": {
    "name": "ipython",
    "version": 3
   },
   "file_extension": ".py",
   "mimetype": "text/x-python",
   "name": "python",
   "nbconvert_exporter": "python",
   "pygments_lexer": "ipython3",
   "version": "3.9.12"
  }
 },
 "nbformat": 4,
 "nbformat_minor": 5
}
